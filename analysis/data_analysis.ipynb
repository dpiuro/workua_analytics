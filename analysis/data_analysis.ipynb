{
 "cells": [
  {
   "cell_type": "code",
   "id": "initial_id",
   "metadata": {
    "collapsed": true,
    "ExecuteTime": {
     "end_time": "2024-11-15T14:36:11.102758Z",
     "start_time": "2024-11-15T14:36:11.086051Z"
    }
   },
   "source": [
    "import pandas as pd\n",
    "from collections import Counter\n",
    "import matplotlib.pyplot as plt\n",
    "\n",
    "data = pd.read_csv('../data.csv')\n",
    "data.head()\n"
   ],
   "outputs": [
    {
     "data": {
      "text/plain": [
       "                                    title  \\\n",
       "0                        Python developer   \n",
       "1              Python-програміст (middle)   \n",
       "2         Data Engineer, Python Developer   \n",
       "3              Python-програміст (middle)   \n",
       "4  Full Stack Developer (Desktop, Python)   \n",
       "\n",
       "                                         description             technologies  \n",
       "0  ULA Video is a software for automated analysis...   Django, Flask, FastAPI  \n",
       "1  Вимоги: \\r\\n Досвід роботи з AWS (Amazon Web S...                      AWS  \n",
       "2  Компанія «Брокбрідж» — логістична компанія, ми...               PostgreSQL  \n",
       "3  Проект із застосуваннням ШІ в рітейлі Вимоги: ...  PostgreSQL, AWS, Docker  \n",
       "4  Full Stack Developer (Desktop, Python) Huawei ...   PostgreSQL, JavaScript  "
      ],
      "text/html": [
       "<div>\n",
       "<style scoped>\n",
       "    .dataframe tbody tr th:only-of-type {\n",
       "        vertical-align: middle;\n",
       "    }\n",
       "\n",
       "    .dataframe tbody tr th {\n",
       "        vertical-align: top;\n",
       "    }\n",
       "\n",
       "    .dataframe thead th {\n",
       "        text-align: right;\n",
       "    }\n",
       "</style>\n",
       "<table border=\"1\" class=\"dataframe\">\n",
       "  <thead>\n",
       "    <tr style=\"text-align: right;\">\n",
       "      <th></th>\n",
       "      <th>title</th>\n",
       "      <th>description</th>\n",
       "      <th>technologies</th>\n",
       "    </tr>\n",
       "  </thead>\n",
       "  <tbody>\n",
       "    <tr>\n",
       "      <th>0</th>\n",
       "      <td>Python developer</td>\n",
       "      <td>ULA Video is a software for automated analysis...</td>\n",
       "      <td>Django, Flask, FastAPI</td>\n",
       "    </tr>\n",
       "    <tr>\n",
       "      <th>1</th>\n",
       "      <td>Python-програміст (middle)</td>\n",
       "      <td>Вимоги: \\r\\n Досвід роботи з AWS (Amazon Web S...</td>\n",
       "      <td>AWS</td>\n",
       "    </tr>\n",
       "    <tr>\n",
       "      <th>2</th>\n",
       "      <td>Data Engineer, Python Developer</td>\n",
       "      <td>Компанія «Брокбрідж» — логістична компанія, ми...</td>\n",
       "      <td>PostgreSQL</td>\n",
       "    </tr>\n",
       "    <tr>\n",
       "      <th>3</th>\n",
       "      <td>Python-програміст (middle)</td>\n",
       "      <td>Проект із застосуваннням ШІ в рітейлі Вимоги: ...</td>\n",
       "      <td>PostgreSQL, AWS, Docker</td>\n",
       "    </tr>\n",
       "    <tr>\n",
       "      <th>4</th>\n",
       "      <td>Full Stack Developer (Desktop, Python)</td>\n",
       "      <td>Full Stack Developer (Desktop, Python) Huawei ...</td>\n",
       "      <td>PostgreSQL, JavaScript</td>\n",
       "    </tr>\n",
       "  </tbody>\n",
       "</table>\n",
       "</div>"
      ]
     },
     "execution_count": 3,
     "metadata": {},
     "output_type": "execute_result"
    }
   ],
   "execution_count": 3
  },
  {
   "metadata": {
    "ExecuteTime": {
     "end_time": "2024-11-15T14:36:28.605131Z",
     "start_time": "2024-11-15T14:36:28.594612Z"
    }
   },
   "cell_type": "code",
   "source": [
    "technology_list = data['technologies'].dropna().str.split(',').sum()\n",
    "technology_list = [tech.strip() for tech in technology_list if tech.strip()]\n",
    "\n",
    "technology_counts = Counter(technology_list)\n",
    "tech_counts_df = pd.DataFrame(technology_counts.items(), columns=['Technology', 'Count']).sort_values(by='Count', ascending=False)\n",
    "\n",
    "tech_counts_df.head(10)\n"
   ],
   "id": "2f9d040e62b50728",
   "outputs": [
    {
     "data": {
      "text/plain": [
       "   Technology  Count\n",
       "4  PostgreSQL     15\n",
       "6  JavaScript     14\n",
       "0      Django     10\n",
       "5      Docker     10\n",
       "2     FastAPI      7\n",
       "3         AWS      7\n",
       "1       Flask      4\n",
       "7       React      4"
      ],
      "text/html": [
       "<div>\n",
       "<style scoped>\n",
       "    .dataframe tbody tr th:only-of-type {\n",
       "        vertical-align: middle;\n",
       "    }\n",
       "\n",
       "    .dataframe tbody tr th {\n",
       "        vertical-align: top;\n",
       "    }\n",
       "\n",
       "    .dataframe thead th {\n",
       "        text-align: right;\n",
       "    }\n",
       "</style>\n",
       "<table border=\"1\" class=\"dataframe\">\n",
       "  <thead>\n",
       "    <tr style=\"text-align: right;\">\n",
       "      <th></th>\n",
       "      <th>Technology</th>\n",
       "      <th>Count</th>\n",
       "    </tr>\n",
       "  </thead>\n",
       "  <tbody>\n",
       "    <tr>\n",
       "      <th>4</th>\n",
       "      <td>PostgreSQL</td>\n",
       "      <td>15</td>\n",
       "    </tr>\n",
       "    <tr>\n",
       "      <th>6</th>\n",
       "      <td>JavaScript</td>\n",
       "      <td>14</td>\n",
       "    </tr>\n",
       "    <tr>\n",
       "      <th>0</th>\n",
       "      <td>Django</td>\n",
       "      <td>10</td>\n",
       "    </tr>\n",
       "    <tr>\n",
       "      <th>5</th>\n",
       "      <td>Docker</td>\n",
       "      <td>10</td>\n",
       "    </tr>\n",
       "    <tr>\n",
       "      <th>2</th>\n",
       "      <td>FastAPI</td>\n",
       "      <td>7</td>\n",
       "    </tr>\n",
       "    <tr>\n",
       "      <th>3</th>\n",
       "      <td>AWS</td>\n",
       "      <td>7</td>\n",
       "    </tr>\n",
       "    <tr>\n",
       "      <th>1</th>\n",
       "      <td>Flask</td>\n",
       "      <td>4</td>\n",
       "    </tr>\n",
       "    <tr>\n",
       "      <th>7</th>\n",
       "      <td>React</td>\n",
       "      <td>4</td>\n",
       "    </tr>\n",
       "  </tbody>\n",
       "</table>\n",
       "</div>"
      ]
     },
     "execution_count": 4,
     "metadata": {},
     "output_type": "execute_result"
    }
   ],
   "execution_count": 4
  },
  {
   "metadata": {
    "ExecuteTime": {
     "end_time": "2024-11-15T14:36:40.385624Z",
     "start_time": "2024-11-15T14:36:40.265813Z"
    }
   },
   "cell_type": "code",
   "source": [
    "plt.figure(figsize=(8, 6))\n",
    "plt.bar(tech_counts_df['Technology'], tech_counts_df['Count'], color='skyblue')\n",
    "plt.xlabel('Technology')\n",
    "plt.ylabel('Count')\n",
    "plt.title('Popularity of Technologies in Job Descriptions')\n",
    "plt.xticks(rotation=45)\n",
    "plt.tight_layout()\n",
    "plt.show()"
   ],
   "id": "4e58ce3aa7a30846",
   "outputs": [
    {
     "data": {
      "text/plain": [
       "<Figure size 800x600 with 1 Axes>"
      ],
      "image/png": "[encoded data removed]"
     },
     "metadata": {},
     "output_type": "display_data"
    }
   ],
   "execution_count": 6
  }
 ],
 "metadata": {
  "kernelspec": {
   "display_name": "Python 3",
   "language": "python",
   "name": "python3"
  },
  "language_info": {
   "codemirror_mode": {
    "name": "ipython",
    "version": 2
   },
   "file_extension": ".py",
   "mimetype": "text/x-python",
   "name": "python",
   "nbconvert_exporter": "python",
   "pygments_lexer": "ipython2",
   "version": "2.7.6"
  }
 },
 "nbformat": 4,
 "nbformat_minor": 5
}
