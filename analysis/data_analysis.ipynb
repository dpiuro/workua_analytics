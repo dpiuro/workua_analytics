{
 "cells": [
  {
   "cell_type": "code",
   "id": "initial_id",
   "metadata": {
    "collapsed": true,
    "ExecuteTime": {
     "end_time": "2024-11-19T19:50:46.333001Z",
     "start_time": "2024-11-19T19:50:45.445383Z"
    }
   },
   "source": [
    "import pandas as pd\n",
    "from collections import Counter\n",
    "import matplotlib.pyplot as plt\n",
    "\n",
    "data = pd.read_csv(\"../data.csv\")\n",
    "data.head()\n"
   ],
   "outputs": [
    {
     "data": {
      "text/plain": [
       "                                               title  \\\n",
       "0  Викладач JS, CSS, HTML, Python, Unity (програм...   \n",
       "1                  Fullstack Python, React Developer   \n",
       "2  Викладач JS, CSS, HTML, Python, Unity (програм...   \n",
       "3                         Python-програміст (middle)   \n",
       "4                 Full Stack Developer (Web, Python)   \n",
       "\n",
       "                                         description  \\\n",
       "0  Потрібен викладач зі знаннями: \\r\\n React, JS,...   \n",
       "1  ABOUT ELEMENTICA Welcome to Elementica! We are...   \n",
       "2  Потрібен викладач зі знаннями: \\r\\n React, JS,...   \n",
       "3  Проект із застосуваннням ШІ в рітейлі Вимоги: ...   \n",
       "4  Full   Stack Developer (Web, Python) Huawei є ...   \n",
       "\n",
       "                                        technologies  \n",
       "0                                              React  \n",
       "1  PostgreSQL, JavaScript, AWS, Docker, FastAPI, ...  \n",
       "2                                              React  \n",
       "3                            PostgreSQL, AWS, Docker  \n",
       "4     Django, Flask, PostgreSQL, JavaScript, FastAPI  "
      ],
      "text/html": [
       "<div>\n",
       "<style scoped>\n",
       "    .dataframe tbody tr th:only-of-type {\n",
       "        vertical-align: middle;\n",
       "    }\n",
       "\n",
       "    .dataframe tbody tr th {\n",
       "        vertical-align: top;\n",
       "    }\n",
       "\n",
       "    .dataframe thead th {\n",
       "        text-align: right;\n",
       "    }\n",
       "</style>\n",
       "<table border=\"1\" class=\"dataframe\">\n",
       "  <thead>\n",
       "    <tr style=\"text-align: right;\">\n",
       "      <th></th>\n",
       "      <th>title</th>\n",
       "      <th>description</th>\n",
       "      <th>technologies</th>\n",
       "    </tr>\n",
       "  </thead>\n",
       "  <tbody>\n",
       "    <tr>\n",
       "      <th>0</th>\n",
       "      <td>Викладач JS, CSS, HTML, Python, Unity (програм...</td>\n",
       "      <td>Потрібен викладач зі знаннями: \\r\\n React, JS,...</td>\n",
       "      <td>React</td>\n",
       "    </tr>\n",
       "    <tr>\n",
       "      <th>1</th>\n",
       "      <td>Fullstack Python, React Developer</td>\n",
       "      <td>ABOUT ELEMENTICA Welcome to Elementica! We are...</td>\n",
       "      <td>PostgreSQL, JavaScript, AWS, Docker, FastAPI, ...</td>\n",
       "    </tr>\n",
       "    <tr>\n",
       "      <th>2</th>\n",
       "      <td>Викладач JS, CSS, HTML, Python, Unity (програм...</td>\n",
       "      <td>Потрібен викладач зі знаннями: \\r\\n React, JS,...</td>\n",
       "      <td>React</td>\n",
       "    </tr>\n",
       "    <tr>\n",
       "      <th>3</th>\n",
       "      <td>Python-програміст (middle)</td>\n",
       "      <td>Проект із застосуваннням ШІ в рітейлі Вимоги: ...</td>\n",
       "      <td>PostgreSQL, AWS, Docker</td>\n",
       "    </tr>\n",
       "    <tr>\n",
       "      <th>4</th>\n",
       "      <td>Full Stack Developer (Web, Python)</td>\n",
       "      <td>Full   Stack Developer (Web, Python) Huawei є ...</td>\n",
       "      <td>Django, Flask, PostgreSQL, JavaScript, FastAPI</td>\n",
       "    </tr>\n",
       "  </tbody>\n",
       "</table>\n",
       "</div>"
      ]
     },
     "execution_count": 5,
     "metadata": {},
     "output_type": "execute_result"
    }
   ],
   "execution_count": 5
  },
  {
   "metadata": {
    "ExecuteTime": {
     "end_time": "2024-11-19T19:51:07.366424Z",
     "start_time": "2024-11-19T19:51:07.356861Z"
    }
   },
   "cell_type": "code",
   "source": [
    "technology_list = data[\"technologies\"].dropna().str.split(\",\").sum()\n",
    "technology_list = [tech.strip() for tech in technology_list if tech.strip()]\n",
    "\n",
    "technology_counts = Counter(technology_list)\n",
    "tech_counts_df = pd.DataFrame(technology_counts.items(), columns=[\"Technology\", \"Count\"]).sort_values(by=\"Count\", ascending=False)\n",
    "\n",
    "tech_counts_df.head(10)\n"
   ],
   "id": "2f9d040e62b50728",
   "outputs": [
    {
     "data": {
      "text/plain": [
       "   Technology  Count\n",
       "1  PostgreSQL     13\n",
       "2  JavaScript     12\n",
       "4      Docker     10\n",
       "6      Django      9\n",
       "5     FastAPI      8\n",
       "3         AWS      7\n",
       "0       React      5\n",
       "7       Flask      3"
      ],
      "text/html": [
       "<div>\n",
       "<style scoped>\n",
       "    .dataframe tbody tr th:only-of-type {\n",
       "        vertical-align: middle;\n",
       "    }\n",
       "\n",
       "    .dataframe tbody tr th {\n",
       "        vertical-align: top;\n",
       "    }\n",
       "\n",
       "    .dataframe thead th {\n",
       "        text-align: right;\n",
       "    }\n",
       "</style>\n",
       "<table border=\"1\" class=\"dataframe\">\n",
       "  <thead>\n",
       "    <tr style=\"text-align: right;\">\n",
       "      <th></th>\n",
       "      <th>Technology</th>\n",
       "      <th>Count</th>\n",
       "    </tr>\n",
       "  </thead>\n",
       "  <tbody>\n",
       "    <tr>\n",
       "      <th>1</th>\n",
       "      <td>PostgreSQL</td>\n",
       "      <td>13</td>\n",
       "    </tr>\n",
       "    <tr>\n",
       "      <th>2</th>\n",
       "      <td>JavaScript</td>\n",
       "      <td>12</td>\n",
       "    </tr>\n",
       "    <tr>\n",
       "      <th>4</th>\n",
       "      <td>Docker</td>\n",
       "      <td>10</td>\n",
       "    </tr>\n",
       "    <tr>\n",
       "      <th>6</th>\n",
       "      <td>Django</td>\n",
       "      <td>9</td>\n",
       "    </tr>\n",
       "    <tr>\n",
       "      <th>5</th>\n",
       "      <td>FastAPI</td>\n",
       "      <td>8</td>\n",
       "    </tr>\n",
       "    <tr>\n",
       "      <th>3</th>\n",
       "      <td>AWS</td>\n",
       "      <td>7</td>\n",
       "    </tr>\n",
       "    <tr>\n",
       "      <th>0</th>\n",
       "      <td>React</td>\n",
       "      <td>5</td>\n",
       "    </tr>\n",
       "    <tr>\n",
       "      <th>7</th>\n",
       "      <td>Flask</td>\n",
       "      <td>3</td>\n",
       "    </tr>\n",
       "  </tbody>\n",
       "</table>\n",
       "</div>"
      ]
     },
     "execution_count": 8,
     "metadata": {},
     "output_type": "execute_result"
    }
   ],
   "execution_count": 8
  },
  {
   "metadata": {
    "ExecuteTime": {
     "end_time": "2024-11-19T19:51:16.331969Z",
     "start_time": "2024-11-19T19:51:16.206593Z"
    }
   },
   "cell_type": "code",
   "source": [
    "plt.figure(figsize=(8, 6))\n",
    "plt.bar(tech_counts_df[\"Technology\"], tech_counts_df[\"Count\"], color=\"skyblue\")\n",
    "plt.xlabel(\"Technology\")\n",
    "plt.ylabel(\"Count\")\n",
    "plt.title(\"Popularity of Technologies in Job Descriptions\")\n",
    "plt.xticks(rotation=45)\n",
    "plt.tight_layout()\n",
    "plt.show()"
   ],
   "id": "4e58ce3aa7a30846",
   "outputs": [
    {
     "data": {
      "text/plain": [
       "<Figure size 800x600 with 1 Axes>"
      ],
      "image/png": "[encoded data removed]"
     },
     "metadata": {},
     "output_type": "display_data"
    }
   ],
   "execution_count": 10
  }
 ],
 "metadata": {
  "kernelspec": {
   "display_name": "Python 3",
   "language": "python",
   "name": "python3"
  },
  "language_info": {
   "codemirror_mode": {
    "name": "ipython",
    "version": 2
   },
   "file_extension": ".py",
   "mimetype": "text/x-python",
   "name": "python",
   "nbconvert_exporter": "python",
   "pygments_lexer": "ipython2",
   "version": "2.7.6"
  }
 },
 "nbformat": 4,
 "nbformat_minor": 5
}
